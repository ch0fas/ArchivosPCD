{
 "cells": [
  {
   "cell_type": "markdown",
   "metadata": {
    "pycharm": {
     "name": "#%% md\n"
    }
   },
   "source": [
    "# Herramientas tecnológicas y repaso básico de Python.\n",
    "\n",
    "<img style=\"float: left; margin: 15px 15px 15px 15px;\" src=\"https://upload.wikimedia.org/wikipedia/commons/thumb/1/1d/PyCharm_Icon.svg/1024px-PyCharm_Icon.svg.png?20200803065702\" tittle=pycharm width=\"180\" height=\"50\" />\n",
    "<img style=\"float: left; margin: 15px 15px 15px 15px;\" src=\"https://sobrebits.com/wp-content/uploads/2018/10/Visual-Studio-Code-para-PowerShell.png\" title=\"vscode\" width=\"280\" height=\"50\" />\n",
    "<img style=\"float: left; margin: 15px 15px 15px 15px;\" src=\"https://logos-world.net/wp-content/uploads/2021/10/Python-Symbol.png\" tittle=python width=\"280\" height=\"50\" />\n",
    "\n"
   ]
  },
  {
   "cell_type": "markdown",
   "metadata": {
    "pycharm": {
     "name": "#%% md\n"
    }
   },
   "source": [
    "# 0. Introducción\n",
    "En esta clase, veremos las herramientas tecnológicas y lenguaje de programación que se usará en el curso. \n",
    "\n",
    "Adicionalmente se hará un rápido repaso básico de conceptos claves e importantes de `Python` que se usarán en el semestre (y en su vida profesional).\n"
   ]
  },
  {
   "cell_type": "markdown",
   "metadata": {
    "pycharm": {
     "name": "#%% md\n"
    }
   },
   "source": [
    "# 1. Integrated Development Environment (IDE)\n",
    "\n",
    "https://es.wikipedia.org/wiki/Entorno_de_desarrollo_integrado\n",
    "\n",
    "Un **entorno de desarrollo integrado** o **entorno de desarrollo interactivo**, en inglés **Integrated Development Environment** (IDE), es una aplicación informática que proporciona servicios integrales para facilitarle al desarrollador o programador el desarrollo de software.\n",
    "\n",
    "Normalmente, un IDE consiste en un editor de código fuente, herramientas de construcción automáticas y un depurador. La mayoría de los IDE tienen auto-completado inteligente de código (IntelliSense), entre otras herramientas auxiliares de gran ayuda para el desarollador.\n",
    "\n",
    "- Diseñados para maximizar la productividad del programador\n",
    "- Reducir la configuración necesaria para reconstruir múltiples utilidades de desarrollo. \n",
    "\n",
    "Casi cualquier editor de texto puede servir para desarrollar un programa en casi caulquier lenguaje, pero la diferencia entre un editor de texto y un IDE es que este último ayuda al usuario con muchas características para un lenguaje específico, por ejemplo: \n",
    "\n",
    "- Resaltado de sintáxis de códico basado en el lenguaje\n",
    "- Documentación del lenguaje\n",
    "- Soporte para ejecución y compilación\n",
    "- Validación de sintáxs y lógica\n",
    "- Revisión de estilo (PEP8)\n",
    "- Herramientas para debugging."
   ]
  },
  {
   "cell_type": "markdown",
   "metadata": {
    "pycharm": {
     "name": "#%% md\n"
    }
   },
   "source": [
    "# 1.1 IDE para Python\n",
    "https://elpythonista.com/python-ide\n",
    "\n",
    "\n",
    "<img style=\"float: left; margin: 15px 15px 15px 15px;\" src=\"https://elpythonista.com/wp-content/uploads/2021/02/python-Ide-main-picture-1536x864.png\" tittle=ide width=\"580\" height=\"90\" />\n"
   ]
  },
  {
   "cell_type": "markdown",
   "metadata": {
    "pycharm": {
     "name": "#%% md\n"
    }
   },
   "source": [
    "Los IDE para `Python` se pueden dividir en 3 categorías:\n",
    "### A. IDE específico para `Python`\n",
    "   - [Pycharm](https://www.jetbrains.com/pycharm/)\n",
    "   - [Spyder Python](https://www.spyder-ide.org/)\n",
    "   - [Thonny IDE](https://thonny.org/)\n",
    "   - [Python IDLE](https://docs.python.org/3/library/idle.html)\n",
    "    \n",
    "### B. IDE multilenguaje con soporte para `Python`\n",
    "   - [Visual Studio Code](https://code.visualstudio.com/)\n",
    "   - [PyDev o LiClipse](https://www.pydev.org/)\n",
    "    \n",
    "### C. Editor de texto poderoso con soporte para `Python`\n",
    "   - [Atom IDE](https://atom.io/)\n",
    "   - [Sublime Text](https://www.sublimetext.com/)\n",
    "   - [Vim](https://www.vim.org/download.php)\n",
    "   - [Emacs](https://www.gnu.org/software/emacs/)\n",
    "\n",
    "### C. Editor de texto poderoso con soporte para `Python`\n",
    "   - [Atom IDE](https://atom.io/)\n",
    "   - [Sublime Text](https://www.sublimetext.com/)\n",
    "   - [Vim](https://www.vim.org/download.php)\n",
    "   - [Emacs](https://www.gnu.org/software/emacs/)\n",
    "\n",
    "### D. Editor de texto poderoso con soporte para `Python` y **AI Agentic**\n",
    "- [Cursor](https://www.cursor.com/)\n",
    "- [JetBrains AI Assistant en PyCharm](https://www.jetbrains.com/ai/)\n",
    "- [Visual Studio Code con Copilot / Copilot Chat](https://code.visualstudio.com/)\n",
    "- [Zed AI](https://zed.dev/)\n",
    "- [Replit AI](https://replit.com/site/ai)\n",
    "- [Codeium](https://codeium.com/)\n",
    "- [Tabnine AI](https://www.tabnine.com/)"
   ]
  },
  {
   "cell_type": "markdown",
   "metadata": {
    "pycharm": {
     "name": "#%% md\n"
    }
   },
   "source": [
    "# 1.2 Pycharm\n",
    "\n",
    "**Pycharm** es un IDE profesional centrado en el desarrollo de Python y quizás uno de los mejor valorados y utilizados entre los desarrolladores de todo el mundo. Algunas de sus características se pueden encontrar a continuación:\n",
    "\n",
    "- Depurador de código intuitivo y profesional que muestra el estado y los valores de cada variable.\\\n",
    "- Compatibilidad con múltiples marcos de prueba (unittest, nosetests, pytests y más).\n",
    "- Manejo nativo de entornos virtuales y requerimientos.\n",
    "- Gran soporte para diferentes versiones de Python.\n",
    "- Enfoque profesional en código Python con sintaxis coloreada, verificador pep 8, formateador automático, optimizaciones de importación, verificador de tipos, compatibilidad con documentación de Python y mucho más.\n",
    "- Compatibilidad con múltiples sistemas de control de versiones.\n",
    "- Posibilidad de extenderse a través de complementos.\n",
    "- Bases de datos de soporte profesional (versión profesional).\n",
    "- Magnífico soporte de desarrollo web, que permite el uso de Flask, Django, JS, node y mucho más (versión profesional).\n",
    "\n",
    "El desarrollo y mantenimiento de Pycharm está a cargo de la empresa `JetBrains`, la misma empresa especializada en la creación de IDE para diferentes lenguajes como Java o PHP.\n",
    "\n",
    "Debido a que la empresa está especializada en la creación de IDE, a menudo también comparten las nuevas funciones agregadas a otros IDE en `PyCharm`, lo que hace que el IDE se actualice no solo por los desarrolladores y usuarios de Python, sino también por las necesidades de otros lenguajes de programación. desarrolladores\n",
    "___"
   ]
  },
  {
   "cell_type": "markdown",
   "metadata": {
    "pycharm": {
     "name": "#%% md\n"
    }
   },
   "source": [
    "### 1.2.1 Versiones de Pycharm\n",
    "PyCharm está disponible en 2 versiones, la **edición profesional** (con suscripción anual) y la **edición comunitaria**, más limitada pero súper potente y gratuita.\n",
    "\n",
    "Diferencias entre ambas versiones:\n",
    "\n",
    "https://www.jetbrains.com/products/compare/?product=pycharm&product=pycharm-ce\n",
    "___"
   ]
  },
  {
   "cell_type": "markdown",
   "metadata": {
    "pycharm": {
     "name": "#%% md\n"
    }
   },
   "source": [
    "Para los fines que trabajaremos en este curso, la **versión comunitaria** es suficiente, sin embargo, si alguien está interesado en usar la **versión profesional**, pueden aplicar par auna licencia educativa totalmente gratuita (la cuál se debe renovar cada año):\n",
    "\n",
    "https://www.jetbrains.com/community/education/#students\n",
    "___"
   ]
  },
  {
   "cell_type": "markdown",
   "metadata": {
    "pycharm": {
     "name": "#%% md\n"
    }
   },
   "source": [
    "### 1.2.2 Descargar Pycharm\n",
    "\n",
    "Para los que aún no tienen descargado e instalado Pycharm, usar el siguiente link:\n",
    "\n",
    "https://www.jetbrains.com/pycharm/download/#section=windows\n",
    "\n",
    "**Descargar la versión comunitaria.**"
   ]
  },
  {
   "cell_type": "markdown",
   "metadata": {
    "pycharm": {
     "name": "#%% md\n"
    }
   },
   "source": [
    "### 1.2.3 Diferentes versiones de `Python`\n",
    "`Pycharm` nos permite trabajar con diferentes versiones de `Python` 2.7, 3.9, 3.10, 3.11, 3.12, 3.13, etc."
   ]
  },
  {
   "cell_type": "markdown",
   "metadata": {
    "pycharm": {
     "name": "#%% md\n"
    }
   },
   "source": [
    "# 2. Repaso de Python\n",
    "\n",
    "\n",
    "## 2.1 Sintáxis básica\n",
    "### 2.1.1 Palabras reservadas\n",
    "<img style=\"float: left; margin: 15px 15px 15px 15px;\" src=\"https://pbs.twimg.com/media/Eya8brpXAAI710A.png:large\" tittle=ide width=\"580\" height=\"90\" />\n",
    "\n"
   ]
  },
  {
   "cell_type": "markdown",
   "metadata": {
    "pycharm": {
     "name": "#%% md\n"
    }
   },
   "source": [
    "### 2.1.2 Lineas y sangría\n",
    "`Python` no crea bloques de código abriendo y cerrando llaves `({})` ó paréntesis `()` ó corchetes `[]`, para indicar que cierta sintaxis como puede ser una función (`function`), un ciclo (`for, while, if,` etc) ha empezado y ha terminado. \n",
    "\n",
    "Para indicarle a `Python` que un bloque de código comienzan y termina se tienen en cuenta la sangría (identation) desde que se escribe algunas de las \"palabras reservadas\", como por ejemplo:"
   ]
  },
  {
   "cell_type": "code",
   "execution_count": 1,
   "metadata": {
    "pycharm": {
     "is_executing": true,
     "name": "#%%\n"
    }
   },
   "outputs": [
    {
     "name": "stdout",
     "output_type": "stream",
     "text": [
      "El usuario ingresó un valor de condición diferente a 1 y 2\n"
     ]
    }
   ],
   "source": [
    "condicion = int(input(\"Ingrese el valor de la variable condición -> \"))\n",
    "if condicion == 1:\n",
    "    print(f\"El usuario ingresó que condicion es igual a {condicion}\")\n",
    "elif condicion == 2:\n",
    "    print(f\"El usuario ingresó que condicion es igual a {condicion}\" )\n",
    "else:\n",
    "    print(\"El usuario ingresó un valor de condición diferente a 1 y 2\")"
   ]
  },
  {
   "cell_type": "markdown",
   "metadata": {
    "pycharm": {
     "name": "#%% md\n"
    }
   },
   "source": [
    "### 2.1.3 Comillas"
   ]
  },
  {
   "cell_type": "code",
   "execution_count": 2,
   "metadata": {
    "pycharm": {
     "name": "#%%\n"
    }
   },
   "outputs": [
    {
     "name": "stdout",
     "output_type": "stream",
     "text": [
      "palabra\n",
      "La frase completa\n",
      " Este es un párrafo de varias \n",
      "lineas hechas como ejemplo para el curso de simulación de procesos financieros\n"
     ]
    }
   ],
   "source": [
    "una_palabra = 'palabra'                  # este es el comentario de esta línea\n",
    "una_frase = \"La frase completa\"\n",
    "un_parrafo = \"\"\" Este es un párrafo de varias \n",
    "lineas hechas como ejemplo para el curso de simulación de procesos financieros\"\"\"\n",
    "print(una_palabra)\n",
    "print(una_frase)\n",
    "print(un_parrafo)"
   ]
  },
  {
   "cell_type": "markdown",
   "metadata": {
    "pycharm": {
     "name": "#%% md\n"
    }
   },
   "source": [
    "## 2.2 Variables de python\n",
    "Los tipos de variables con los que trabaja python son:\n",
    "- Números\n",
    "     - Enteros (int)\n",
    "     - Enteros largos (long)- se pueden representar números en `octal` y `hexadecimal`\n",
    "     - Decimales (flotantes - float)\n",
    "     - Complejos \n",
    "- Texto (string)"
   ]
  },
  {
   "cell_type": "code",
   "execution_count": 3,
   "metadata": {
    "pycharm": {
     "name": "#%%\n"
    }
   },
   "outputs": [
    {
     "name": "stdout",
     "output_type": "stream",
     "text": [
      "5 , 5.5 , Curso Proyecto de Ciencia de Datos , 7 , 1e-05 , Camilo , (4+5j)\n"
     ]
    }
   ],
   "source": [
    "entero = 5\n",
    "\n",
    "flotante = 5.5\n",
    "\n",
    "text = \"Curso Proyecto de Ciencia de Datos\"\n",
    "\n",
    "a, b, c, d = 7, 1e-5, \"Camilo\", 4+5j\n",
    "\n",
    "print(entero, ',', flotante, ',', text, ',', a, ',', b, ',', c, ',', d)"
   ]
  },
  {
   "cell_type": "markdown",
   "metadata": {
    "pycharm": {
     "name": "#%% md\n"
    }
   },
   "source": [
    "### 2.2.1 Tipos estándar de datos en python\n",
    "Python tiene cinco tipos nativos de datos, para almacenar datos en la memoria:\n",
    "- <font color = red> Números </font>\n",
    "- Texto \n",
    "- Listas\n",
    "- Tuplas\n",
    "- Diccionarios"
   ]
  },
  {
   "cell_type": "markdown",
   "metadata": {
    "pycharm": {
     "name": "#%% md\n"
    }
   },
   "source": [
    "#### 2.2.1.1 Texto\n",
    "\n",
    "Las variables que tienen almacenados texto se puede acceder a alguna posición de la variable en particular, haciendo uso de (`[]` y `[:]`) para indicar los indices que empiezan desde 0 para el comienzo de la palabra y trabajando en sentido contrario -1 para el último término. Observemos un ejemplo: \n",
    "\n",
    "    \n",
    "$$\\textbf{Distribuciones de listas, tuplas y textos}$$\n",
    "![imagen.png](https://media.geeksforgeeks.org/wp-content/uploads/List-Slicing.jpg)"
   ]
  },
  {
   "cell_type": "code",
   "execution_count": 1,
   "metadata": {
    "pycharm": {
     "name": "#%%\n"
    }
   },
   "outputs": [
    {
     "name": "stdout",
     "output_type": "stream",
     "text": [
      "Hola mundo, estamos probando \n",
      " mun\n",
      "do, estamos proband\n",
      "amos probando \n",
      "Hola mundo, estamos probando  -Adición de palabras\n",
      "Hola mundo, estamos probando Hola mundo, estamos probando \n",
      " odnaborp somatse ,odnum aloH\n"
     ]
    }
   ],
   "source": [
    "d =\"Hola mundo, estamos probando \"\n",
    "print(d)\n",
    "print(d[4:8])\n",
    "print(d[8:-2])\n",
    "print(d[15:])\n",
    "print(d + \" -Adición de palabras\")\n",
    "print(d*2)\n",
    "print(d[::-1])"
   ]
  },
  {
   "cell_type": "markdown",
   "metadata": {
    "pycharm": {
     "name": "#%% md\n"
    }
   },
   "source": [
    "#### 2.2.1.2 Listas\n",
    "\n",
    "Las listas son herramientas que almacenan tipos de datos separados por comas (\",\") y encerrados dentro de un corchete `([])`. \n",
    "\n",
    "Los items dentro de una lista pueden ser de diferente tipo. \n",
    "\n",
    "De igual forma que los textos también se puede acceder a una posición en particular de las listas usando `([],[:])`, duplicar la lista usando `('*')` y el operador `('+')` para la concatenación de listas."
   ]
  },
  {
   "cell_type": "code",
   "execution_count": 4,
   "metadata": {
    "pycharm": {
     "name": "#%%\n"
    }
   },
   "outputs": [
    {
     "name": "stdout",
     "output_type": "stream",
     "text": [
      "['Palabra', 'una frase', 40, 5.5, (4+4j), [1, 2, 3], 'Palabra', 'una frase', 40, 5.5, (4+4j), [1, 2, 3]]\n"
     ]
    }
   ],
   "source": [
    "lista1 = ['Palabra', \"una frase\", 40, 5.5, 4+4j, [1,2,3]]\n",
    "# print(lista1[-1][0])\n",
    "# lista1[0]=1                 # se puede modificar el contenido de una lista\n",
    "# print(lista1[0])\n",
    "# print(lista1[3:])\n",
    "# print(lista1[4:-2])\n",
    "#print(lista1[-1][0])\n",
    "#print(lista1 + [[\"concatenacion\",6,7]])\n",
    "print(lista1*2)"
   ]
  },
  {
   "cell_type": "markdown",
   "metadata": {
    "pycharm": {
     "name": "#%% md\n"
    }
   },
   "source": [
    "> Operaciones y métodos (funciones) más habituales con listas en Python\n",
    "\n",
    "> Las operaciones más habituales que se realizan en Python son las siguientes:\n",
    ">   - `lista[i]`: Devuelve el elemento que está en la posición i de la lista.\n",
    ">   - `lista.pop(i)`: Devuelve el elemento en la posición i de una lista y luego lo borra.\n",
    ">   - `lista.append(elemento)`: Añade elemento al final de la lista.\n",
    ">   - `lista.insert(i, elemento)`: Inserta elemento en la posición i.\n",
    ">   - `lista.extend(lista2)`: Fusiona lista con lista2.\n",
    ">   - `lista.remove(elemento)`: Elimina la primera vez que aparece elemento.\n"
   ]
  },
  {
   "cell_type": "markdown",
   "metadata": {
    "pycharm": {
     "name": "#%% md\n"
    }
   },
   "source": [
    "> <font color=blue> **Ejercicio: Probar el funcionamiento de cada una de estas funciones creando tu propia lista y modificándola **"
   ]
  },
  {
   "cell_type": "code",
   "execution_count": 5,
   "metadata": {
    "pycharm": {
     "name": "#%%\n"
    }
   },
   "outputs": [],
   "source": [
    "mi_lista = ['hola', 'mundo', 'Cristian', ' Cristian', 3.5, 5.8, ['a', 'b', 'c']]"
   ]
  },
  {
   "cell_type": "code",
   "execution_count": 8,
   "metadata": {
    "pycharm": {
     "name": "#%%\n"
    }
   },
   "outputs": [
    {
     "data": {
      "text/plain": [
       "'Cristian'"
      ]
     },
     "execution_count": 8,
     "metadata": {},
     "output_type": "execute_result"
    }
   ],
   "source": [
    "a = mi_lista.pop(2)\n",
    "a"
   ]
  },
  {
   "cell_type": "code",
   "execution_count": 10,
   "metadata": {
    "pycharm": {
     "name": "#%%\n"
    }
   },
   "outputs": [
    {
     "data": {
      "text/plain": [
       "['hola', 'mundo', ' Cristian', 3.5, 5.8, ['a', 'b', 'c']]"
      ]
     },
     "execution_count": 10,
     "metadata": {},
     "output_type": "execute_result"
    }
   ],
   "source": [
    "mi_lista"
   ]
  },
  {
   "cell_type": "code",
   "execution_count": 6,
   "metadata": {},
   "outputs": [],
   "source": [
    "lista_sofi = [\"Sofia\", 3.1415, [1,2,3,4], True, False]"
   ]
  },
  {
   "cell_type": "code",
   "execution_count": null,
   "metadata": {},
   "outputs": [
    {
     "data": {
      "text/plain": [
       "4"
      ]
     },
     "execution_count": 11,
     "metadata": {},
     "output_type": "execute_result"
    }
   ],
   "source": [
    "#lista_sofi[2][3]\n",
    "#lista_sofi.append(\"This was added later\")"
   ]
  },
  {
   "cell_type": "markdown",
   "metadata": {
    "pycharm": {
     "name": "#%% md\n"
    }
   },
   "source": [
    "#### 2.2.1.3 Tuplas\n",
    "\n",
    "Las tuplas son otras secuencia de datos simulares a las listas. Una tupla consiste de número de valores separados por comas `(',')` y deben de ser escritas dentro de paréntesis `('()')`. \n",
    "\n",
    "A diferencia de las listas, las tuplas no pueden ser actualizadas (modificadas). Las tuplas entonces se pueden considerar como un objeto **únicamente de lectura**. Las mismas funciones que cumplen las listas estan disponibles para las tuplas (`*,+,[]`)."
   ]
  },
  {
   "cell_type": "code",
   "execution_count": 12,
   "metadata": {
    "pycharm": {
     "name": "#%%\n"
    }
   },
   "outputs": [
    {
     "name": "stdout",
     "output_type": "stream",
     "text": [
      "('hola grupo', 'finanzas', 3, 5.5, 64, [1, 2], 'hola grupo', 'finanzas', 3, 5.5, 64, [1, 2])\n",
      "('hola grupo', 'finanzas', 3, 5.5, 64, [1, 2])\n"
     ]
    }
   ],
   "source": [
    "tupla = (\"hola grupo\", 'finanzas', 3, 5.5, 0x40,[1,2])\n",
    "#print(tupla)\n",
    "# print(tupla[0])\n",
    "# print(tupla[2:])\n",
    "print(tupla*2)\n",
    "# print(tupla+(1e-5,'carlos'))\n",
    "# tupla = tupla + (5,)\n",
    "print(tupla)"
   ]
  },
  {
   "cell_type": "code",
   "execution_count": null,
   "metadata": {
    "pycharm": {
     "name": "#%%\n"
    }
   },
   "outputs": [],
   "source": [
    "## Sintaxis inválida -> 1\n",
    "tupla[0]= 1\n",
    "print(tupla)"
   ]
  },
  {
   "cell_type": "code",
   "execution_count": null,
   "metadata": {
    "pycharm": {
     "name": "#%%\n"
    }
   },
   "outputs": [],
   "source": [
    "## Sintaxis inválida -> 2\n",
    "#print(tupla+[1,2])\n",
    "print(tupla + (1,) )"
   ]
  },
  {
   "cell_type": "markdown",
   "metadata": {
    "pycharm": {
     "name": "#%% md\n"
    }
   },
   "source": [
    "#### 2.2.1.4 Diccionarios\n",
    "Como sucede con un diccionario convencional, un diccionario en `Python` es una palabra que tiene asociado algo. Al contrario de lo que sucedía en las listas, los diccionarios no tienen orden.\n",
    "\n",
    "Se crean poniendo sus elementos entre llaves `{“a”:”Alicante”, “b”:”Barcelona”,>>>}`. \n",
    "\n",
    "Se denominan **keys** a las **“palabras”** y **values** a las **“definiciones”**.  \n",
    "\n",
    "Lógicamente, no puede haber dos **keys** iguales, aunque sí dos values iguales."
   ]
  },
  {
   "cell_type": "code",
   "execution_count": 2,
   "metadata": {
    "pycharm": {
     "name": "#%%\n"
    }
   },
   "outputs": [
    {
     "name": "stdout",
     "output_type": "stream",
     "text": [
      "Sergio Pérez\n"
     ]
    }
   ],
   "source": [
    "diccionario = {'Piloto 1':\"Fernando Alonso\", \n",
    "               'Piloto 2':'Kimi Raikkonen', \n",
    "               'Piloto 3':'Sergio Pérez'}\n",
    "# print(diccionario)\n",
    "#print(diccionario['Piloto 1'])\n",
    "# print(diccionario['Piloto 2'])\n",
    "print(diccionario.get('Piloto 3'))\n",
    "# print(diccionario[\"Piloto 4\"])\n"
   ]
  },
  {
   "cell_type": "markdown",
   "metadata": {
    "pycharm": {
     "name": "#%% md\n"
    }
   },
   "source": [
    "> ### Operaciones más habituales con diccionarios en Python\n",
    "> Es similar a las listas, con el matiz de que dado que los diccionarios no tienen orden, no tienen funciones en las que se tenga en cuenta la posición.\n",
    ">    - `diccionario.get(‘key’)`: Devuelve el valor que corresponde con la key introducida.\n",
    ">    - `diccionario.pop(‘key’)`: Devuelve el valor que corresponde con la key introducida, y luego borra la key y el valor.\n",
    ">    - `“key” in diccionario`: Devuelve verdadero (True) o falso (False) si la key (no los valores) existe en el diccionario.\n",
    ">    - `“definicion” in diccionario.values()`: Devuelve verdadero (True) o falso (False) si definición existe en el diccionario (no como key).\n",
    ">    - `diccionario.keys()`: Devuelve todas las palabras `keys` del diccionario. \n",
    ">    - `diccionario.values()`: Devuelve todos los `values` de todas las palabras `keys` del diccionario.\n",
    "\n",
    ">Poniendo todo esto en un ejemplo:"
   ]
  },
  {
   "cell_type": "markdown",
   "metadata": {
    "pycharm": {
     "name": "#%% md\n"
    }
   },
   "source": [
    "> <font color=blue> **Ejercicio: Probar el funcionamiento de cada una de estas funciones creando tu propio diccionario y modificándolo **"
   ]
  },
  {
   "cell_type": "code",
   "execution_count": 4,
   "metadata": {
    "pycharm": {
     "name": "#%%\n"
    }
   },
   "outputs": [
    {
     "data": {
      "text/plain": [
       "dict_values(['prueba 1', 3.5])"
      ]
     },
     "execution_count": 4,
     "metadata": {},
     "output_type": "execute_result"
    }
   ],
   "source": [
    "dict_test = {'llave 1': 'prueba 1', 'llave 2': 'prueba 2'}\n",
    "\n",
    "dict_test['llave 2'] = 3.5\n",
    "\n",
    "dict_test.values()"
   ]
  },
  {
   "cell_type": "code",
   "execution_count": 5,
   "metadata": {
    "pycharm": {
     "name": "#%%\n"
    }
   },
   "outputs": [
    {
     "data": {
      "text/plain": [
       "['prueba 1', 3.5]"
      ]
     },
     "execution_count": 5,
     "metadata": {},
     "output_type": "execute_result"
    }
   ],
   "source": [
    "list(dict_test.values())"
   ]
  },
  {
   "cell_type": "code",
   "execution_count": 6,
   "metadata": {},
   "outputs": [],
   "source": [
    "dict_sofi = {'Nombre': 'Sofia', 'Edad': 20, 'Universidad': 'ITESO'}"
   ]
  },
  {
   "cell_type": "markdown",
   "metadata": {
    "pycharm": {
     "name": "#%% md\n"
    }
   },
   "source": [
    "#### 2.2.1.5 Conjuntos\n",
    "\n",
    "Un conjunto es una colección desordenada de elementos distintos.\n",
    "\n",
    "Bucles: la iteración sobre un conjunto tiene la misma sintaxis que iterar sobre una lista; sin embargo, como los conjuntos no están ordenados, no puede hacer suposiciones sobre el orden en que visita los elementos del conjunto:"
   ]
  },
  {
   "cell_type": "code",
   "execution_count": null,
   "metadata": {
    "pycharm": {
     "name": "#%%\n"
    }
   },
   "outputs": [],
   "source": [
    "from math import sqrt\n",
    "nums = {int(sqrt(x)) for x in range(30)}\n",
    "print(nums) "
   ]
  },
  {
   "cell_type": "code",
   "execution_count": null,
   "metadata": {},
   "outputs": [],
   "source": [
    "nums.intersection({3,8})"
   ]
  },
  {
   "cell_type": "markdown",
   "metadata": {
    "pycharm": {
     "name": "#%% md\n"
    }
   },
   "source": [
    "## 2.3 Operadores básicos\n",
    "\n",
    "- ### **Tipos de operadores**\n",
    "`Python` soporta los siguientes tipos de operadores:\n",
    "\n",
    "    - Operadores aritméticos\n",
    "    - Operadores de comparación (relaciones)\n",
    "    - Operadores de asignación\n",
    "    - Operadores lógicos\n",
    "    - Operadores bit a bit\n",
    "    - Operadores de miembros (membership)\n",
    "    - Operadores de indentidad"
   ]
  },
  {
   "cell_type": "markdown",
   "metadata": {
    "pycharm": {
     "name": "#%% md\n"
    }
   },
   "source": [
    "- ### Operadores aritméticos: Suponga a=10 y b=20\n",
    "![operadorAritmetico.png](images/operadorAritmetico.png)"
   ]
  },
  {
   "cell_type": "code",
   "execution_count": null,
   "metadata": {
    "pycharm": {
     "name": "#%%\n"
    }
   },
   "outputs": [],
   "source": []
  },
  {
   "cell_type": "markdown",
   "metadata": {
    "pycharm": {
     "name": "#%% md\n"
    }
   },
   "source": [
    "- ### Operadores de comparación (relaciones): Suponga a=10 y b=20\n",
    "![image.png](images/operadorComparacion.png)"
   ]
  },
  {
   "cell_type": "code",
   "execution_count": null,
   "metadata": {
    "pycharm": {
     "name": "#%%\n"
    }
   },
   "outputs": [],
   "source": []
  },
  {
   "cell_type": "markdown",
   "metadata": {
    "pycharm": {
     "name": "#%% md\n"
    }
   },
   "source": [
    "- ### Operadores de pertenencia en python\n",
    "![image.png](images/operadorPertenencia.png)"
   ]
  },
  {
   "cell_type": "code",
   "execution_count": null,
   "metadata": {
    "pycharm": {
     "name": "#%%\n"
    }
   },
   "outputs": [],
   "source": [
    "h = (1,'a',[1,2])\n",
    "y = [1,2]\n",
    "print(y in h)\n",
    "print(not h in y)"
   ]
  },
  {
   "cell_type": "markdown",
   "metadata": {
    "pycharm": {
     "name": "#%% md\n"
    }
   },
   "source": [
    "- ### Operadores lógicos: Asuma que a=10 y b=20\n",
    "![image.png](images/operadorLogico.png)"
   ]
  },
  {
   "cell_type": "code",
   "execution_count": null,
   "metadata": {
    "pycharm": {
     "name": "#%%\n"
    }
   },
   "outputs": [],
   "source": [
    "c = not(True and True)\n",
    "a = False and True\n",
    "e = True or False\n",
    "print(c,a,e)"
   ]
  },
  {
   "cell_type": "code",
   "execution_count": null,
   "metadata": {
    "pycharm": {
     "name": "#%%\n"
    }
   },
   "outputs": [],
   "source": [
    "var1 = True\n",
    "\n",
    "if var1:\n",
    "    print('Hola mundo')\n",
    "else:\n",
    "    print('Chao mundo')     "
   ]
  },
  {
   "cell_type": "markdown",
   "metadata": {
    "pycharm": {
     "name": "#%% md\n"
    }
   },
   "source": [
    "- ### Precedencia de operadores en python\n",
    "![image.png](images/operadorPrecedencia.png)"
   ]
  },
  {
   "cell_type": "markdown",
   "metadata": {
    "pycharm": {
     "name": "#%% md\n"
    }
   },
   "source": [
    "## 2.4 Ciclos condicionales\n",
    "En todo programa, llega el momento en el que se llega a una bifuración y que en función de una determinada condición, hay que realizar una serie de cosas u otra.\n",
    "\n",
    "Esto se hace con el comando `if` (condición principal), con los opcionales `elif` (condiciones adicionales, se pueden poner tantas como se quiera) y `else` (si no se ha cumplido ninguna de las anteriores, sólo se puede poner una vez y al final).\n",
    "> **Las condiciones que se suelen usar con más frecuencia son**:\n",
    "> - `a == b `$\\longrightarrow$ Indica si a es igual a b\n",
    "> - `a < b`\n",
    "> - `a > b`\n",
    "> - `not` $\\longrightarrow$ NO: niega la condición que le sigue.\n",
    "> - `and` $\\longrightarrow$ Y: junta dos condiciones que tienen que cumplirse las dos\n",
    "> - `or`  $\\longrightarrow$ O: junta dos condiciones y tienen que cumplirse alguna de las dos.\n"
   ]
  },
  {
   "cell_type": "code",
   "execution_count": null,
   "metadata": {
    "pycharm": {
     "name": "#%%\n"
    }
   },
   "outputs": [],
   "source": [
    "a = [1,2,3,4,5,6,55]\n",
    "b = ['a','b','c','d']\n",
    "c = \"Cristian Zapata\"\n",
    "d = 5\n",
    "# Ilustración de precedencia \n",
    "# print((5**2 * 2 + 5) / 5);print(5**2 * 2 + 5 / 5);print(d**2+10/10);\n",
    "\n",
    "# Estructura de If en python con muchas condiciones \n",
    "if a[0]==d:\n",
    "    print(\"La primera posición de la lista es \",d)\n",
    "elif a[1]==d:\n",
    "    print(\"La segunda posición de la lista es \",d)\n",
    "elif a[2]==d:\n",
    "    print(\"La tercera posición de la lista es \",d) \n",
    "elif a[3]==d:\n",
    "    print(\"La cuarta posición de la lista es \",d)\n",
    "elif a[4]==d:\n",
    "    print(\"La quinta posición de la lista es \",d)\n",
    "    \n",
    "# Condiciones múltiples\n",
    "if ((d**2%5==0) and (d in a)) or ((c[0] in b) and (c[8] in b)):\n",
    "    print(\"La condiciones 1 o 2 son verdaderas\")\n",
    "    \n",
    "# Uso del else\n",
    "if ((d**2%5==0) and (d in a)) and ((c[0] in b) and (c[7] in b)):\n",
    "    print(\"La dos condiciones son verdaderas\")\n",
    "else:\n",
    "    print(\"La condición con 'and' ya es falsa\")"
   ]
  },
  {
   "cell_type": "markdown",
   "metadata": {
    "pycharm": {
     "name": "#%% md\n"
    }
   },
   "source": [
    "<img style=\"float: right; margin: 0px 0px 15px 15px;\" src=\"https://image.jimcdn.com/app/cms/image/transf/none/path/s37cc796afdd27ec2/image/i174a5e4a83b64a45/version/1368834058/image.jpg\" width=\"200px\" height=\"100px\" />\n",
    "\n",
    "## 2.5 Bucles en python\n",
    "Todos los comandos y programaciones que realicemos en python se ejecutarán de manera secuencial, es decir primero se ejecuta la primera línea, luego la segunda y asi sucesivamente. En ocasiones necesitamos que cierta parte de nuestro código se ejecute un determindado número de veces, de esta necesidad resultan en python lo siguientes tipos de bucles:\n",
    "- Bucles `For`\n",
    "- Bucles `while`\n",
    "- Bucles anidados es decir '`for y while`', '`for y for`', '`while y while`'\n",
    "\n",
    "Un diagrama de flujo de estos dos tipos de bucles se muestra en la imagen de la derecha."
   ]
  },
  {
   "cell_type": "markdown",
   "metadata": {
    "pycharm": {
     "name": "#%% md\n"
    }
   },
   "source": [
    "- ### Ciclo `while`\n",
    ">**Sintaxis**\n",
    ">$$\\textbf{while} \\ expresion: \\\\ \\quad instrucciones()$$"
   ]
  },
  {
   "cell_type": "code",
   "execution_count": 11,
   "metadata": {
    "pycharm": {
     "name": "#%%\n"
    }
   },
   "outputs": [
    {
     "name": "stdout",
     "output_type": "stream",
     "text": [
      "La variable contar es = 0\n",
      "La variable contar es = 1\n",
      "La variable contar es = 2\n",
      "La variable contar es = 3\n",
      "La variable contar es = 4\n",
      "La variable es mayor que 5\n",
      "Se terminó el bucle Hasta luego!\n"
     ]
    }
   ],
   "source": [
    "contar = 0\n",
    "while (contar <5):\n",
    "    print(\"La variable contar es =\",contar)\n",
    "    contar+=1\n",
    "else:\n",
    "    print(\"La variable es mayor que 5\")\n",
    "print(\"Se terminó el bucle Hasta luego!\")"
   ]
  },
  {
   "cell_type": "markdown",
   "metadata": {
    "pycharm": {
     "name": "#%% md\n"
    }
   },
   "source": [
    "- ### Lazos infinitos"
   ]
  },
  {
   "cell_type": "code",
   "execution_count": null,
   "metadata": {
    "pycharm": {
     "name": "#%%\n"
    }
   },
   "outputs": [
    {
     "name": "stdout",
     "output_type": "stream",
     "text": [
      "El número ingresado es:  1\n",
      "El número ingresado es:  2\n",
      "El número ingresado es:  3\n",
      "El número ingresado es:  4\n",
      "El número ingresado es:  5\n",
      "El número ingresado es:  \n",
      "El número ingresado es:  \n",
      "El número ingresado es:  \n",
      "El número ingresado es:  2\n",
      "El número ingresado es:  12\n",
      "El número ingresado es:  31\n",
      "El número ingresado es:  3\n",
      "El número ingresado es:  123\n",
      "El número ingresado es:  12\n",
      "El número ingresado es:  \n",
      "El número ingresado es:  \n",
      "El número ingresado es:  \n",
      "El número ingresado es:  \n",
      "El número ingresado es:  \n",
      "El número ingresado es:  \n",
      "El número ingresado es:  \n",
      "El número ingresado es:  \n",
      "El número ingresado es:  \n",
      "El número ingresado es:  \n",
      "El número ingresado es:  \n",
      "El número ingresado es:  \n",
      "El número ingresado es:  \n",
      "El número ingresado es:  \n",
      "El número ingresado es:  \n",
      "El número ingresado es:  \n",
      "El número ingresado es:  \n",
      "El número ingresado es:  \n",
      "El número ingresado es:  \n",
      "El número ingresado es:  \n",
      "El número ingresado es:  \n",
      "El número ingresado es:  \n",
      "El número ingresado es:  \n",
      "El número ingresado es:  \n",
      "El número ingresado es:  \n",
      "El número ingresado es:  \n",
      "El número ingresado es:  \n",
      "El número ingresado es:  \n",
      "El número ingresado es:  \n",
      "El número ingresado es:  \n",
      "El número ingresado es:  \n",
      "El número ingresado es:  \n",
      "El número ingresado es:  assert False\n"
     ]
    }
   ],
   "source": [
    "var = 1\n",
    "while var == 1 :  # contruye un lazo infinito (siempre verdadero)\n",
    "    num = input(\"Ingrese un número :\")\n",
    "    print(\"El número ingresado es: \", num)\n",
    "    if num == '0':\n",
    "        break     # Detiene el ciclo infinito si el usuario ingresa el caracter '0'\n",
    "print(\"Hasta luego!\")"
   ]
  },
  {
   "cell_type": "markdown",
   "metadata": {
    "pycharm": {
     "name": "#%% md\n"
    }
   },
   "source": [
    "- ### Ciclo `for`\n",
    "Python le brinda la posibilidad a este bucle de iterar sobre los items de una secuencia, que puede ser una lista o una palabra (string).\n",
    ">**Sintaxis**\n",
    ">$$\\textbf{for} \\ variable\\_iteradora \\ \\textbf{in} \\ secuencia: \\\\ \\quad instrucciones()$$"
   ]
  },
  {
   "cell_type": "code",
   "execution_count": null,
   "metadata": {
    "pycharm": {
     "name": "#%%\n"
    }
   },
   "outputs": [],
   "source": [
    "# for sobre una secuencia que es una palabra\n",
    "# for i in \"abcdef\":\n",
    "#     print(\"La variable iteradora toma el valor de: \",i)\n",
    "\n",
    "# for sobre una secuencia que es una lista\n",
    "# for i in [1,2,3,4,5]:\n",
    "#     print(\"De la lista la i toma el valor de: \",i) \n",
    "\n",
    "# uso del objeto iterable \"range()\"\n",
    "lista = []\n",
    "#for i in range(0,5,2): # itera desde 0 hasta 4\n",
    "#    lista.append(i) \n",
    "# print(\"la lista almacenó los siguientes datos: \",lista)\n",
    "    \n",
    "# # for de forma compacta\n",
    "lista2 = [i**2 for i in range(0,5)] # Comprehension List\n",
    "print(lista2)"
   ]
  },
  {
   "cell_type": "code",
   "execution_count": null,
   "metadata": {
    "pycharm": {
     "name": "#%%\n"
    }
   },
   "outputs": [],
   "source": [
    "i = 2\n",
    "while(i < 50):\n",
    "   j = 2\n",
    "   while(j <= (i/j)):\n",
    "      if not(i%j): break\n",
    "      j = j + 1\n",
    "   if (j > i/j) : print( i, \" is prime\")\n",
    "   i = i + 1\n",
    "\n",
    "print(\"Good bye!\")"
   ]
  },
  {
   "cell_type": "markdown",
   "metadata": {
    "pycharm": {
     "name": "#%% md\n"
    }
   },
   "source": [
    "- ### Estamentos de control del bucle\n",
    "Las instrucciones de control de bucle cambian la ejecución de su secuencia normal. Cuando la ejecución deja un ámbito, se destruyen todos los objetos automáticos que se crearon en ese ámbito.\n",
    "Python soporta los siguientes palabras de control \n",
    "\n",
    "    - `break`: Termina el bucle\n",
    "    - `continue`: Hace que el ciclo omita el resto de código faltante e inmediatamente vuelve a probar su condición antes de reiterar. \n",
    "    - `pass`:La declaración de pass es una operación nula; nada sucede cuando se ejecuta."
   ]
  },
  {
   "cell_type": "code",
   "execution_count": null,
   "metadata": {
    "pycharm": {
     "name": "#%%\n"
    }
   },
   "outputs": [],
   "source": [
    "# # Ejemplo 1\n",
    "# for letter in 'Python':     \n",
    "#    if letter == 'h':\n",
    "#       continue\n",
    "#    print('Letra actual :', letter)\n",
    "\n",
    "# # Ejemplo 2\n",
    "# var = 10                    \n",
    "# while var > 0:              \n",
    "#    var -= 1\n",
    "#    if var == 5:\n",
    "#       continue\n",
    "#    print('Current variable value :', var)\n",
    "# print(\"Hasta luego\")\n",
    "\n",
    "# # Ejemplo 3\n",
    "for letter in 'Python': \n",
    "   if letter == 'h':\n",
    "      pass\n",
    "      print(\"Este es el bloque 'pass'\")\n",
    "   print(\"Letra actual:\", letter)\n"
   ]
  },
  {
   "cell_type": "code",
   "execution_count": 17,
   "metadata": {
    "pycharm": {
     "name": "#%%\n"
    }
   },
   "outputs": [
    {
     "name": "stdout",
     "output_type": "stream",
     "text": [
      "{0: 0, 2: 4, 4: 16}\n"
     ]
    }
   ],
   "source": [
    "# Comprensión de diccionarios y bucles\n",
    "nums = [0, 1, 2, 3, 4]\n",
    "even_num_to_square = {x: x ** 2 for x in nums if x % 2 == 0}\n",
    "print(even_num_to_square)"
   ]
  },
  {
   "cell_type": "code",
   "execution_count": null,
   "metadata": {
    "pycharm": {
     "name": "#%%\n"
    }
   },
   "outputs": [],
   "source": [
    "# Uso de los conjuntos\n",
    "from math import sqrt\n",
    "print({int(sqrt(i)) for i in range(30)})"
   ]
  },
  {
   "cell_type": "code",
   "execution_count": null,
   "metadata": {
    "pycharm": {
     "name": "#%%\n"
    }
   },
   "outputs": [],
   "source": [
    "int(sqrt(28))"
   ]
  },
  {
   "cell_type": "markdown",
   "metadata": {
    "pycharm": {
     "name": "#%% md\n"
    }
   },
   "source": [
    "## 2.6 Funciones\n",
    "\n",
    "Las funciones en python son definidas usando la palabra `def`. Por ejemplo:"
   ]
  },
  {
   "cell_type": "code",
   "execution_count": null,
   "metadata": {
    "pycharm": {
     "name": "#%%\n"
    }
   },
   "outputs": [],
   "source": [
    "# Función signo\n",
    "def sign(x):\n",
    "    if x > 0:\n",
    "        return 'Positiva'\n",
    "    elif x < 0:\n",
    "        return 'Negativa'\n",
    "    else:\n",
    "        return 'cero'\n",
    "\n",
    "# for x in [-1, 0, 1]:\n",
    "#     print(sign(x))\n",
    "print([x for x in [-1, 0, 1] if sign(x)=='Positiva'])"
   ]
  },
  {
   "cell_type": "markdown",
   "metadata": {
    "pycharm": {
     "name": "#%% md\n"
    }
   },
   "source": [
    "- ### Argumentos opcionales de las funciones "
   ]
  },
  {
   "cell_type": "code",
   "execution_count": null,
   "metadata": {
    "pycharm": {
     "name": "#%%\n"
    }
   },
   "outputs": [],
   "source": [
    "def hello(name: str,  edad: int, fuerte: str=False):\n",
    "    if fuerte:\n",
    "        print(f'HOLAA!!, {name.upper()}! Tienes {edad} años')\n",
    "    else:\n",
    "        print(f'Hola, {name}.  Tienes {edad} años')\n",
    "\n",
    "hello('Bob', 20, True) # Imprime \"Hola, Bob\"\n",
    "# hello('Fred', fuerte=True) "
   ]
  },
  {
   "cell_type": "markdown",
   "metadata": {
    "pycharm": {
     "name": "#%% md\n"
    }
   },
   "source": [
    "- ### Concepto avanzado: `args` y `kwargs` en funciones\n",
    "https://realpython.com/python-kwargs-and-args/"
   ]
  },
  {
   "cell_type": "markdown",
   "metadata": {
    "pycharm": {
     "name": "#%% md\n"
    }
   },
   "source": [
    "## 2.7 Importación de paquetes\n",
    "\n",
    "<img style=\"float: right; margin: 0px 0px 15px 15px;\" src=\"https://cdn-images-1.medium.com/max/400/1*mc5YIn7jvo5uwuqBOUDw7Q.jpeg\" width=\"200px\" height=\"100px\" />\n",
    "\n",
    "El código de Python en un módulo obtiene acceso al código en otro módulo mediante el proceso de importación. La declaración de importación es la forma más común de invocar la maquinaria de importación, pero no es la única.\n",
    "\n",
    "La instrucción de importación combina dos operaciones; **busca** el módulo nombrado, luego **vincula** los resultados de esa búsqueda a **un nombre** en el ámbito local. La operación de búsqueda de la declaración de importación se define como una llamada a la función `__import __()`, con los argumentos apropiados. El valor de retorno de `__import __()` se usa para realizar la operación de vinculación de nombre de la instrucción de importación.\n",
    "\n",
    ">**Ejemplo - Usar import (sintaxis)**\n",
    "\n",
    "> Se puede usar import de esta forma para importar un paquete o módulo:\n",
    "    >- `import package[.subpackage.[.module]]`"
   ]
  },
  {
   "cell_type": "code",
   "execution_count": 7,
   "metadata": {
    "pycharm": {
     "name": "#%%\n"
    }
   },
   "outputs": [
    {
     "name": "stdout",
     "output_type": "stream",
     "text": [
      "Collecting fibonacci\n",
      "  Downloading fibonacci-1.0.0.tar.gz (584 bytes)\n",
      "  Preparing metadata (setup.py) ... \u001b[?25ldone\n",
      "\u001b[?25hBuilding wheels for collected packages: fibonacci\n",
      "\u001b[33m  DEPRECATION: Building 'fibonacci' using the legacy setup.py bdist_wheel mechanism, which will be removed in a future version. pip 25.3 will enforce this behaviour change. A possible replacement is to use the standardized build interface by setting the `--use-pep517` option, (possibly combined with `--no-build-isolation`), or adding a `pyproject.toml` file to the source tree of 'fibonacci'. Discussion can be found at https://github.com/pypa/pip/issues/6334\u001b[0m\u001b[33m\n",
      "\u001b[0m  Building wheel for fibonacci (setup.py) ... \u001b[?25ldone\n",
      "\u001b[?25h  Created wheel for fibonacci: filename=fibonacci-1.0.0-py3-none-any.whl size=1294 sha256=664aa00ccc1e633e21ccd762cc4a865f111c5c92eb0ecf0e354572969895c975\n",
      "  Stored in directory: /home/sofi/.cache/pip/wheels/31/ed/53/4907ee8f10d1dde267656fc5a6d869eec89d7d117664751baa\n",
      "Successfully built fibonacci\n",
      "Installing collected packages: fibonacci\n",
      "Successfully installed fibonacci-1.0.0\n"
     ]
    }
   ],
   "source": [
    "!pip install fibonacci"
   ]
  },
  {
   "cell_type": "code",
   "execution_count": 16,
   "metadata": {
    "pycharm": {
     "name": "#%%\n"
    }
   },
   "outputs": [
    {
     "name": "stdout",
     "output_type": "stream",
     "text": [
      "2090\n"
     ]
    }
   ],
   "source": [
    "# Importación del módulo \"fibonacci\" - forma 1\n",
    "import fibonacci\n",
    "fibonacci.fibo(10)    # impresión de los primeros 10 números de fibonacci\n",
    "\n",
    "# Importación del módulo \"fibonacci\" - forma 2\n",
    "from fibonacci import fibo\n",
    "result = fibo(10000)\n",
    "print(len(str(result)))"
   ]
  },
  {
   "cell_type": "code",
   "execution_count": 10,
   "metadata": {
    "pycharm": {
     "name": "#%%\n"
    }
   },
   "outputs": [
    {
     "name": "stdout",
     "output_type": "stream",
     "text": [
      "Help on module fibonacci:\n",
      "\n",
      "NAME\n",
      "    fibonacci - a test function of fibonacci number\n",
      "\n",
      "FUNCTIONS\n",
      "    fibo(n)\n",
      "\n",
      "FILE\n",
      "    /home/sofi/miniconda3/envs/school/lib/python3.11/site-packages/fibonacci.py\n",
      "\n",
      "\n"
     ]
    }
   ],
   "source": [
    "help(fibonacci)"
   ]
  },
  {
   "cell_type": "code",
   "execution_count": 11,
   "metadata": {
    "pycharm": {
     "name": "#%%\n"
    }
   },
   "outputs": [
    {
     "name": "stdout",
     "output_type": "stream",
     "text": [
      "[ 1  2  3  4  5  6  7  8  9 10]\n"
     ]
    }
   ],
   "source": [
    "import numpy as np\n",
    "print(np.r_[1:11])"
   ]
  },
  {
   "cell_type": "code",
   "execution_count": 12,
   "metadata": {
    "pycharm": {
     "name": "#%%\n"
    }
   },
   "outputs": [
    {
     "data": {
      "text/plain": [
       "(3, 5, 8)"
      ]
     },
     "execution_count": 12,
     "metadata": {},
     "output_type": "execute_result"
    }
   ],
   "source": [
    "tpl = (1, 2, 3, 5, 8, 13, 21)\n",
    "tpl[-5:-2]"
   ]
  },
  {
   "cell_type": "markdown",
   "metadata": {},
   "source": [
    "## Tarea 1: \n",
    "Leer el siguiente artículo, por lo menos las siguientes secciones:\n",
    "- Why We Need PEP 8\n",
    "- Naming Conventions\n",
    "- Code Layout\n",
    "- Tips and Tricks to Help Ensure Your Code Follows PEP 8 (linters and formatters)\n",
    "- Conclusion\n",
    "\n",
    "Hacer un resumen en un cuaderno de jupyter y subirlo al canvas. \n",
    "\n",
    "El cuaderno de se debe llamar de la siguiente manera: **T1_PrimerNombrePrimerApellido.ipynb** . En mi caso sería **T1_CristianZapata.ipynb**\n",
    "\n",
    "### Fecha de entrega: Martes 26 de Agosto 2025 a las 19:55.\n",
    "\n",
    "- https://realpython.com/python-pep8/\n",
    "\n",
    "\n",
    "Adicionalmente, se sugiere ~obligatoriamente~ darle una leída al siguiente artículo que ayuda a complementar los temas que se verán en esta clase:\n",
    "- https://realpython.com/python3-object-oriented-programming/"
   ]
  }
 ],
 "metadata": {
  "kernelspec": {
   "display_name": "school",
   "language": "python",
   "name": "python3"
  },
  "language_info": {
   "codemirror_mode": {
    "name": "ipython",
    "version": 3
   },
   "file_extension": ".py",
   "mimetype": "text/x-python",
   "name": "python",
   "nbconvert_exporter": "python",
   "pygments_lexer": "ipython3",
   "version": "3.11.13"
  }
 },
 "nbformat": 4,
 "nbformat_minor": 4
}
