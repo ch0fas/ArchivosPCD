{
 "cells": [
  {
   "cell_type": "code",
   "execution_count": null,
   "id": "6ddee7e3",
   "metadata": {},
   "outputs": [],
   "source": []
  }
 ],
 "metadata": {
  "kernelspec": {
   "display_name": "archivospcd",
   "language": "python",
   "name": "python3"
  },
  "language_info": {
   "name": "python",
   "version": "3.11.10"
  }
 },
 "nbformat": 4,
 "nbformat_minor": 5
}
