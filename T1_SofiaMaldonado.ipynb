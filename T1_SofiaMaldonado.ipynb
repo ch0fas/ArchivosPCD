{
 "cells": [
  {
   "cell_type": "markdown",
   "id": "81022d7c",
   "metadata": {},
   "source": [
    "<style>\n",
    "#title {\n",
    "    text-align: center;\n",
    "    font-family: Helvetica, Sans-serif;\n",
    "}\n",
    "#assign_name {\n",
    "    text-align: center;\n",
    "    font-size: 30px;\n",
    "    font-weight: 200\n",
    "}\n",
    "#info {\n",
    "    text-aling: left;\n",
    "    font-size: 20px;\n",
    "    font-weight: 200\n",
    "}\n",
    "\n",
    "</style>\n",
    "\n",
    "<h1 id='title'>Tarea 1</h1> \n",
    "<p id='assign_name'>PEP8, Linterns y Formatters</p>\n",
    "<p id='info'>Por Sofía Maldonado García</p>\n",
    "<p id='info'>Curso: Proyecto de Ciencia de Datos</p>\n",
    "<p id='info'>Profesor: Cristian Zapata</p>\n",
    "\n",
    "***"
   ]
  },
  {
   "cell_type": "markdown",
   "id": "19eb9fe4",
   "metadata": {},
   "source": [
    "Recuperado de https://realpython.com/python-pep8/"
   ]
  },
  {
   "cell_type": "markdown",
   "id": "ea46d3cb",
   "metadata": {},
   "source": [
    "# Why We Need PEP8\n",
    "\n",
    "PEP8 is concerned with the readability of code. People read code for a long time, sometimes more than the time we spent writing code, and therefore it is important to make sure our code is ar organized and readable as possible, especially if we are working on a group project or contributing to open source. <br>\n",
    "\n",
    "PEP8 concerns itself with things like proper whitespace and naming conventions for variables, among other things."
   ]
  },
  {
   "cell_type": "markdown",
   "id": "03be9160",
   "metadata": {},
   "source": [
    "# Naming Conventions\n",
    "\n",
    "Never use single letter names that can be confused with numbers, like l and $1$ or O and $0$. PEP8 recommends the following naming styles for elements of Python code:\n",
    "\n",
    "| Type | Convention |\n",
    "|---|:---:|\n",
    "| Function | snake_case |\n",
    "| Variable | lowercase |\n",
    "| Class | CamelCase |\n",
    "| Method | snake_case |\n",
    "| Constant | UPPERCASE |\n",
    "| Module | lowercase |\n",
    "| Package | lowercase |"
   ]
  },
  {
   "cell_type": "markdown",
   "id": "51922c6a",
   "metadata": {},
   "source": [
    "# Code Layout\n",
    "\n",
    "- Separa funciones y clases con dos renglones\n",
    "- Separe métodos en clases con solo un renglón\n",
    "- Usa renglones en blanco en funciones para mejorar legibilidad\n",
    "- Evitar line wrapping cuando se pueda"
   ]
  },
  {
   "cell_type": "markdown",
   "id": "4eef0fb8",
   "metadata": {},
   "source": [
    "# Tips and Tricks to Help Ensure Your Code Follows PEP 8\n",
    "\n",
    "## Linters\n",
    "\n",
    "Un linter es un programa que busca y muestra errores en el código. Entre sus tareas también puede determinar si un código cumple con los requisitos de PEP8. Uno reciente escrito en Rust es *Ruff*.\n",
    "\n",
    "## Autoformatters\n",
    "Un autoformatter puede aplicar un mejor formato a un códuigo automáticamente. *Ruff* también puede hacer algo de autoformateo "
   ]
  },
  {
   "cell_type": "markdown",
   "id": "1ae90e1a",
   "metadata": {},
   "source": [
    "# Conclusion"
   ]
  },
  {
   "cell_type": "markdown",
   "id": "47b74500",
   "metadata": {},
   "source": [
    "PEP8 es un estándar que vale la pena buscar al escribir código ya que lo va a hacer más fácil de escribir y de arreglar si llegara a tener errores. Esto es algo que vale la pena hacer en el momento de escribir pero también existen herramientas para hacerlo automáticamente o corregir pequeños errores que hayan surgido."
   ]
  },
  {
   "cell_type": "markdown",
   "id": "8c39997e",
   "metadata": {},
   "source": [
    "La descripción original de PEP8 escrita por Guido Van rossum, Barry Warsaw y Alyssa Coghlan se puede encontrar [aquí](https://peps.python.org/pep-0008/)."
   ]
  }
 ],
 "metadata": {
  "language_info": {
   "name": "python"
  }
 },
 "nbformat": 4,
 "nbformat_minor": 5
}
