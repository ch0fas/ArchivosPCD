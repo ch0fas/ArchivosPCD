{
 "cells": [
  {
   "cell_type": "markdown",
   "id": "736eb6eb",
   "metadata": {},
   "source": [
    "<style>\n",
    "#title {\n",
    "    text-align: center;\n",
    "    font-family: Helvetica, Sans-serif;\n",
    "}\n",
    "#assign_name {\n",
    "    text-align: center;\n",
    "    font-size: 30px;\n",
    "    font-weight: 200\n",
    "}\n",
    "#info {\n",
    "    text-aling: left;\n",
    "    font-size: 20px;\n",
    "    font-weight: 200\n",
    "}\n",
    "\n",
    "</style>\n",
    "\n",
    "<h1 id='title'>Tarea 2</h1> \n",
    "<p id='assign_name'>Trabajando con GitHub</p>\n",
    "<p id='info'>Por Sofía Maldonado García</p>\n",
    "<p id='info'>Curso: Proyecto de Ciencia de Datos</p>\n",
    "<p id='info'>Profesor: Cristian Zapata</p>\n",
    "\n",
    "***"
   ]
  },
  {
   "cell_type": "markdown",
   "id": "ec1088c0",
   "metadata": {},
   "source": [
    "Artículo Elegido: https://www.redhat.com/en/topics/ai/what-is-mlops"
   ]
  },
  {
   "cell_type": "markdown",
   "id": "c73ffcf6",
   "metadata": {},
   "source": [
    "> \"Machine learning operations (MLOps) is a set of workflow practices aiming to streamline the process of deploying and maintaining machine learning (ML) models.\"\n",
    "\n",
    "MLOps se concerna con el proceso de entrenar modelos, y que un modelo pueda ser constantemente re-entrenado con nueva data, monitoreado e implementado con el mejor rendimiento posible.\n",
    "\n",
    "## Beneficios\n",
    "\n",
    "Si un modelo es usado por mucho tiempo sin ser re-entrenado, puede surgir un problema llamado *data drift*, que podría afectar a las operaciones de un negocio. "
   ]
  }
 ],
 "metadata": {
  "language_info": {
   "name": "python"
  }
 },
 "nbformat": 4,
 "nbformat_minor": 5
}
