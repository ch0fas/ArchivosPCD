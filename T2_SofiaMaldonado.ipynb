{
 "cells": [
  {
   "cell_type": "markdown",
   "id": "736eb6eb",
   "metadata": {},
   "source": [
    "<style>\n",
    "#title {\n",
    "    text-align: center;\n",
    "    font-family: Helvetica, Sans-serif;\n",
    "}\n",
    "#assign_name {\n",
    "    text-align: center;\n",
    "    font-size: 30px;\n",
    "    font-weight: 200\n",
    "}\n",
    "#info {\n",
    "    text-aling: left;\n",
    "    font-size: 20px;\n",
    "    font-weight: 200\n",
    "}\n",
    "\n",
    "</style>\n",
    "\n",
    "<h1 id='title'>Tarea 2</h1> \n",
    "<p id='assign_name'>Trabajando con GitHub</p>\n",
    "<p id='info'>Por Sofía Maldonado García</p>\n",
    "<p id='info'>Curso: Proyecto de Ciencia de Datos</p>\n",
    "<p id='info'>Profesor: Cristian Zapata</p>\n",
    "\n",
    "***"
   ]
  },
  {
   "cell_type": "markdown",
   "id": "ec1088c0",
   "metadata": {},
   "source": [
    "Artículo Elegido: https://www.redhat.com/en/topics/ai/what-is-mlops"
   ]
  },
  {
   "cell_type": "markdown",
   "id": "c73ffcf6",
   "metadata": {},
   "source": [
    "> \"Machine learning operations (MLOps) is a set of workflow practices aiming to streamline the process of deploying and maintaining machine learning (ML) models.\"\n",
    "\n",
    "MLOps se concerna con el proceso de entrenar modelos, y que un modelo pueda ser constantemente re-entrenado con nueva data, monitoreado e implementado con el mejor rendimiento posible.\n",
    "\n",
    "# Beneficios\n",
    "Si un modelo es usado por mucho tiempo sin ser re-entrenado, puede surgir un problema llamado *data drift*, que podría afectar a las operaciones de un negocio. Por ende, es importante que los modelos sean ajustados periódicamente para que mantengan la precisión buscada. Abajo se pueden ver formas en las que MLOps pueden beneficiar a una organización:\n",
    "\n",
    "## Reproducibilidad\n",
    "Al repertir ciertos experimentos con nuevos datos, se pueden administrar cambios al código y configuraciones de diferentes modelos.\n",
    "\n",
    "## CI/CD\n",
    "Los modelos pueden entrenarse, validarse e implementarse automáticamente\n",
    "\n",
    "## Colaboración rápida\n",
    "MLOps permite mayor colaboración entre miembros de un equipo\n",
    "\n",
    "## Ahorro de costes\n",
    "La automatización permite ahorrar mucho trabajo manual que ocupa mucho tiempo y dinero, y reduce la posibilidad de errores humanos\n",
    "\n",
    "## Mejor gobernanza y cumplimiento\n",
    "En este caso, el cumplimiento de medidas de privacidad con datos sensibles\n",
    "\n",
    "# Automatización en MLOps\n",
    "MLOps permite la automatización de entrenar modelos de aprendizaje máquina, junto con otros beneficios:\n",
    "- Mantenimiento predecible\n",
    "- Detección de fraude\n",
    "- Implementación de NLP\n",
    "- Visión computacional\n",
    "- Detección de anomalías\n",
    "- Trabajo en el sector salud\n",
    "- etc\n",
    "\n",
    "# MLOps vs DevOps\n",
    "DevOps busca automatizar procesos de rutina y los ambientes virtuales y físicos para el desarrollo de software. MLOps es más experimental y se enfoca principalmente en *data pipelines*. "
   ]
  }
 ],
 "metadata": {
  "language_info": {
   "name": "python"
  }
 },
 "nbformat": 4,
 "nbformat_minor": 5
}
